{
  "nbformat": 4,
  "nbformat_minor": 0,
  "metadata": {
    "colab": {
      "name": "LeNet Pytorch implementation.ipynb",
      "provenance": [],
      "collapsed_sections": []
    },
    "kernelspec": {
      "name": "python3",
      "display_name": "Python 3"
    }
  },
  "cells": [
    {
      "cell_type": "code",
      "metadata": {
        "id": "1yM5CHqdeYcF"
      },
      "source": [
        "import torch\n",
        "import torchvision\n",
        "import torch.nn as nn"
      ],
      "execution_count": null,
      "outputs": []
    },
    {
      "cell_type": "code",
      "metadata": {
        "id": "dpCMEkeVfbn9"
      },
      "source": [
        "#Lenet architecture\n",
        "1x32x32 - input\n",
        "k = 5x5, s = 1, p = 0\n",
        "avg pool, s = 2, p =0\n",
        "k = 5x5, s=1, p=0\n",
        "avg poo; s=2, p=0\n",
        "conv 5x5 \n",
        "120 x linear 84x Linear 10"
      ],
      "execution_count": null,
      "outputs": []
    },
    {
      "cell_type": "code",
      "metadata": {
        "id": "kN2R9EtqgWFH"
      },
      "source": [
        "class LeNet(nn.Module):\n",
        "    def __init__(self):\n",
        "        super(LeNet, self).__init__()\n",
        "        self.relu = nn.ReLU()\n",
        "        self.pool = nn.AvgPool2d(kernel_size=(2,2), stride=(2,2))\n",
        "        self.conv1 = nn.Conv2d(in_channels=1, out_channels=6, kernel_size=(5,5), stride=(1,1), padding=(0,0))\n",
        "        self.conv2 = nn.Conv2d(in_channels=6, out_channels=16, kernel_size=(5,5), stride=(1,1), padding=(0,0))\n",
        "        self.conv3 = nn.Conv2d(in_channels=16, out_channels=120, kernel_size=(5,5), stride=(1,1), padding=(0,0))\n",
        "        self.linear1 = nn.Linear(120, 84)\n",
        "        self.linear2 = nn.Linear(84, 10)\n",
        "    def forward(self, x):\n",
        "        x = self.relu(self.conv1(x))\n",
        "        x = self.pool(x)\n",
        "        x = self.relu(self.conv2(x))\n",
        "        x = self.pool(x)\n",
        "        x = self.relu(self.conv3(x))\n",
        "        x = x.reshape(x.shape[0], -1)\n",
        "        x = self.relu(self.linear1(x))\n",
        "        x = self.linear2(x)\n",
        "        return x\n"
      ],
      "execution_count": null,
      "outputs": []
    },
    {
      "cell_type": "code",
      "metadata": {
        "colab": {
          "base_uri": "https://localhost:8080/"
        },
        "id": "Tyq_iFGLgWBG",
        "outputId": "7505e7c5-07db-40bd-f057-4c12722ddce3"
      },
      "source": [
        "x = torch.randn(64, 1, 32, 32)\n",
        "model = LeNet()\n",
        "print(model(x).shape)"
      ],
      "execution_count": null,
      "outputs": [
        {
          "output_type": "stream",
          "text": [
            "torch.Size([64, 10])\n"
          ],
          "name": "stdout"
        }
      ]
    },
    {
      "cell_type": "markdown",
      "metadata": {
        "id": "LwUHmJEvmOID"
      },
      "source": [
        "# Inception **Net** **bold text**"
      ]
    },
    {
      "cell_type": "code",
      "metadata": {
        "id": "0bYkkJbLgV-h"
      },
      "source": [
        "class ConvBlock(nn.Module):\n",
        "    def __init__(self, in_channels, out_channels, **kwargs):\n",
        "        super(ConvBlock, self).__init__()\n",
        "        self.relu = nn.ReLU()\n",
        "        self.conv = nn.Conv2d(in_channels, out_channels, **kwargs)\n",
        "        self.batchnorm = nn.BatchNorm2d(out_channels)\n",
        "\n",
        "    def forward(self, x):\n",
        "        return self.relu(self.batchnorm(self.conv(x)))\n",
        "\n",
        "\n",
        "class InceptionBlock(nn.Module):\n",
        "    def __init__(self, in_channels, out_1x1, red_3x3, out_3x3, red_5x5, out_5x5, out_1x1pool):\n",
        "        super(InceptionBlock, self).__init__()\n",
        "\n",
        "        self.branch1 = ConvBlock(in_channels, out_1x1, kernel_size = (1,1))\n",
        "\n",
        "        self.branch2 = nn.Sequential(ConvBlock(in_channels, red_3x3, kernel_size = (1,1)),\n",
        "                                     ConvBlock(red_3x3, out_3x3, kernel_size = (3,3), padding = (1,1)))\n",
        "        \n",
        "        self.branch3 = nn.Sequential(ConvBlock(in_channels, red_5x5, kernel_size = (1,1)),\n",
        "                                     ConvBlock(red_5x5, out_5x5, kernel_size = (5,5), padding = (2,2)))\n",
        "        \n",
        "        self.branch4 = nn.Sequential(nn.MaxPool2d(kernel_size = (3,3), padding = (1,1), stride = (1,1)),\n",
        "                                     ConvBlock(in_channels, out_1x1pool, kernel_size = (1,1)))\n",
        "\n",
        "\n",
        "    def forward(self, x):\n",
        "        return torch.cat([self.branch1(x), self.branch2(x), self.branch3(x), self.branch4(x)], 1) #(N, c, h, w) we are adding all the filters\n",
        "\n",
        "\n",
        "class GoogleNet(nn.Module):\n",
        "    def __init__(self, num_classes = 1000):\n",
        "        super(GoogleNet, self).__init__()\n",
        "        self.conv1 = ConvBlock(in_channels = 3, out_channels = 64, kernel_size=(7,7), padding = (3,3), stride = (2,2))\n",
        "        self.maxpool1 = nn.MaxPool2d(kernel_size=(3,3), stride = (2,2), padding =(1,1))\n",
        "        self.conv2 = ConvBlock(64, 192, kernel_size = (3, 3), stride = (1, 1), padding =(1,1))\n",
        "        self.maxpool2 = nn.MaxPool2d(kernel_size = (3, 3), stride = (2, 2), padding = (1,1))\n",
        "        self.inception1a = InceptionBlock(192, 64, 96, 128, 16, 32, 32)\n",
        "        self.inception1b = InceptionBlock(256, 128, 128, 192, 32, 96, 64)\n",
        "        self.maxpool3 = nn.MaxPool2d(kernel_size = (3, 3), stride = (2, 2), padding = (1,1))\n",
        "\n",
        "\n",
        "        self.inception2a = InceptionBlock(480, 192, 96, 208, 16, 48, 64)\n",
        "        self.inception2b = InceptionBlock(512, 160, 112, 224, 24, 64, 64)\n",
        "        self.inception2c = InceptionBlock(512, 128, 128, 256, 24, 64, 64)\n",
        "        self.inception2d = InceptionBlock(512, 112, 144, 288, 32, 64, 64)\n",
        "        self.inception2e = InceptionBlock(528, 256, 160, 320, 32, 128, 128)\n",
        "\n",
        "\n",
        "        self.maxpool4 = nn.MaxPool2d(kernel_size = (3, 3), stride = (2, 2), padding = (1,1))\n",
        "\n",
        "        self.inception3a = InceptionBlock(832, 256, 160, 320, 32, 128, 128)\n",
        "        self.inception3b = InceptionBlock(832, 384, 192, 384, 48, 128, 128) \n",
        "\n",
        "        self.avgpool = nn.AvgPool2d(kernel_size=(7, 7), stride = (1,1))\n",
        "        self.dropout = nn.Dropout(p=0.4)\n",
        "        self.fc1 = nn.Linear(1024, 1000)\n",
        "    def forward(self, x):\n",
        "        x = self.conv1(x)\n",
        "        x = self.maxpool1(x)\n",
        "        x = self.conv2(x)\n",
        "        x = self.maxpool2(x)\n",
        "\n",
        "        x = self.inception1a(x)\n",
        "        x = self.inception1b(x)\n",
        "        x = self.maxpool3(x)\n",
        "\n",
        "        x = self.inception2a(x)\n",
        "        x = self.inception2b(x)\n",
        "        x = self.inception2c(x)\n",
        "        x = self.inception2d(x)\n",
        "        x = self.inception2e(x)\n",
        "        x = self.maxpool4(x)\n",
        "\n",
        "        x = self.inception3a(x)\n",
        "        x = self.inception3b(x)\n",
        "\n",
        "        x = self.avgpool(x)\n",
        "        x = x.reshape(x.shape[0], -1)\n",
        "        x = self.dropout(x)\n",
        "        x = self.fc1(x)\n",
        "\n",
        "        return x"
      ],
      "execution_count": null,
      "outputs": []
    },
    {
      "cell_type": "code",
      "metadata": {
        "colab": {
          "base_uri": "https://localhost:8080/"
        },
        "id": "873kIrdNgV76",
        "outputId": "cd025f90-f719-4073-d1f0-4515d716b32f"
      },
      "source": [
        "x = torch.randn(3, 3, 224, 224)\n",
        "model = GoogleNet()\n",
        "print(model(x).shape)"
      ],
      "execution_count": null,
      "outputs": [
        {
          "output_type": "stream",
          "text": [
            "torch.Size([3, 1000])\n"
          ],
          "name": "stdout"
        }
      ]
    },
    {
      "cell_type": "code",
      "metadata": {
        "id": "CXaxhvfi091C"
      },
      "source": [
        ""
      ],
      "execution_count": null,
      "outputs": []
    },
    {
      "cell_type": "markdown",
      "metadata": {
        "id": "ESxuIeBqKHvR"
      },
      "source": [
        "# ResNet"
      ]
    },
    {
      "cell_type": "code",
      "metadata": {
        "id": "jueEZkHEKLIr"
      },
      "source": [
        "import torch\n",
        "import torch.nn\n",
        "\n",
        "\n",
        "class block(nn.Module):\n",
        "    def __init__(self, in_channels, out_channels, identity_downsample=None, stride = (1,1)):\n",
        "        super(block, self):\n",
        "        self.expansion = 4\n",
        "        self.conv1 = nn.Conv2d(in_channels, out_channels, kernel_size=1, stride=stride, padding=0)\n",
        "        self.bn1 = nn.BatchNorm2d(out_channels)\n",
        "        self.conv2 = nn.Conv2d(out_channels, out_channels, kernel_size = 3, stride=stride, padding=1)\n",
        "        self.bn2 = nn.BatchNorm2d(out_channels)\n",
        "        self.conv3 = nn.Conv2d(out_channels, out_channels*self.expansion, kernel_size=1, stride=1, padding = 0 )\n",
        "        self.bn3 = nn.BatchNorm2d(out_channels*self.expansion)\n",
        "        self.relu = nn.ReLU()\n",
        "        self.identity_downsample = identity_downsample\n",
        "\n",
        "    def forward(self, x):\n",
        "        identity = x\n",
        "\n",
        "        x = self.conv1(x)\n",
        "        x = self.bn1(x)\n",
        "        x = self.conv2(x)\n",
        "        x = self.bn2(x)\n",
        "        x = self.conv3(x)\n",
        "        x = self.bn3(x)\n",
        "\n",
        "        if self.identity_downsample is not None:\n",
        "            identity = self.identity_downsample(identity)\n",
        "\n",
        "        x += identity\n",
        "        x = self.relu(x)\n",
        "\n",
        "        return x\n",
        "\n",
        "\n",
        "\n",
        "\n",
        "class ResNet(nn.Module):\n",
        "    def __init__(self, block, layers, image_channel, num_classes):\n",
        "        super(ResNet, self).__init()\n",
        "        self.in_channels = 64\n",
        "        self.conv1 = nn.Conv2d(image_channels, 64, kernel_size = 7 , stride = 2, padding = 3)\n",
        "        self.bn1 = nn.BatchNorm2d(64)\n",
        "        self.relu = nn.ReLU()\n",
        "        self.maxpool = nn.MaxPool2d(kernel_size = 3, stride = 2, padding = 1)\n",
        "\n",
        "\n",
        "        # Resnet Layers\n",
        "\n",
        "    def _make_layer(self, block, num_residual_blocks, out_channels, stride):\n",
        "        "
      ],
      "execution_count": null,
      "outputs": []
    }
  ]
}