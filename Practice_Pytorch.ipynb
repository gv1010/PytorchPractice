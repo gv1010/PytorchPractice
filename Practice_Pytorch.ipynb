{
  "nbformat": 4,
  "nbformat_minor": 0,
  "metadata": {
    "colab": {
      "name": "Practice Pytorch.ipynb",
      "provenance": []
    },
    "kernelspec": {
      "name": "python3",
      "display_name": "Python 3"
    },
    "accelerator": "GPU"
  },
  "cells": [
    {
      "cell_type": "code",
      "metadata": {
        "colab": {
          "base_uri": "https://localhost:8080/"
        },
        "id": "Qy23Hb9EILIK",
        "outputId": "ed041163-e222-4c10-9efe-c10010c73425"
      },
      "source": [
        "!pip install torchvision"
      ],
      "execution_count": null,
      "outputs": [
        {
          "output_type": "stream",
          "text": [
            "Requirement already satisfied: torchvision in /usr/local/lib/python3.6/dist-packages (0.8.1+cu101)\n",
            "Requirement already satisfied: torch==1.7.0 in /usr/local/lib/python3.6/dist-packages (from torchvision) (1.7.0+cu101)\n",
            "Requirement already satisfied: numpy in /usr/local/lib/python3.6/dist-packages (from torchvision) (1.18.5)\n",
            "Requirement already satisfied: pillow>=4.1.1 in /usr/local/lib/python3.6/dist-packages (from torchvision) (7.0.0)\n",
            "Requirement already satisfied: typing-extensions in /usr/local/lib/python3.6/dist-packages (from torch==1.7.0->torchvision) (3.7.4.3)\n",
            "Requirement already satisfied: future in /usr/local/lib/python3.6/dist-packages (from torch==1.7.0->torchvision) (0.16.0)\n",
            "Requirement already satisfied: dataclasses in /usr/local/lib/python3.6/dist-packages (from torch==1.7.0->torchvision) (0.7)\n"
          ],
          "name": "stdout"
        }
      ]
    },
    {
      "cell_type": "code",
      "metadata": {
        "id": "ZVK0oMjDJbop"
      },
      "source": [
        "from __future__ import print_function\n",
        "import torch"
      ],
      "execution_count": null,
      "outputs": []
    },
    {
      "cell_type": "code",
      "metadata": {
        "colab": {
          "base_uri": "https://localhost:8080/"
        },
        "id": "FESplC4lKoOd",
        "outputId": "18feb1f4-06f7-4393-9986-baecdd0e4173"
      },
      "source": [
        "x = torch.empty(5,3)\n",
        "print(x)"
      ],
      "execution_count": null,
      "outputs": [
        {
          "output_type": "stream",
          "text": [
            "tensor([[8.8099e-36, 0.0000e+00, 3.3631e-44],\n",
            "        [0.0000e+00,        nan, 0.0000e+00],\n",
            "        [1.1578e+27, 1.1362e+30, 7.1547e+22],\n",
            "        [4.5828e+30, 1.2121e+04, 7.1846e+22],\n",
            "        [9.2198e-39, 7.0374e+22, 0.0000e+00]])\n"
          ],
          "name": "stdout"
        }
      ]
    },
    {
      "cell_type": "code",
      "metadata": {
        "colab": {
          "base_uri": "https://localhost:8080/"
        },
        "id": "PtS8sVVXK7Vd",
        "outputId": "e56e2e8e-c25d-49aa-fca6-1e4a8e7ee5e7"
      },
      "source": [
        "#Random intialized matrix\n",
        "x = torch.rand(5, 3)\n",
        "print(x)"
      ],
      "execution_count": null,
      "outputs": [
        {
          "output_type": "stream",
          "text": [
            "tensor([[0.1629, 0.6169, 0.5775],\n",
            "        [0.0684, 0.5430, 0.4389],\n",
            "        [0.1826, 0.7198, 0.2915],\n",
            "        [0.9404, 0.8375, 0.3876],\n",
            "        [0.7381, 0.2789, 0.5999]])\n"
          ],
          "name": "stdout"
        }
      ]
    },
    {
      "cell_type": "code",
      "metadata": {
        "colab": {
          "base_uri": "https://localhost:8080/"
        },
        "id": "8ZIw4KG-LCRl",
        "outputId": "82aa294e-fc0b-482d-8f05-2f8282ac6387"
      },
      "source": [
        "#a tensor with zeros and dtype long\n",
        "x = torch.zeros(3, 3,  dtype=torch.long )\n",
        "print(x)"
      ],
      "execution_count": null,
      "outputs": [
        {
          "output_type": "stream",
          "text": [
            "tensor([[0, 0, 0],\n",
            "        [0, 0, 0],\n",
            "        [0, 0, 0]])\n"
          ],
          "name": "stdout"
        }
      ]
    },
    {
      "cell_type": "code",
      "metadata": {
        "colab": {
          "base_uri": "https://localhost:8080/"
        },
        "id": "X-S5rdRYLnfw",
        "outputId": "557f8b6a-731e-4f3a-d531-424bdb1edc9c"
      },
      "source": [
        "x = torch.tensor([2, 4])\n",
        "print(x)"
      ],
      "execution_count": null,
      "outputs": [
        {
          "output_type": "stream",
          "text": [
            "tensor([2, 4])\n"
          ],
          "name": "stdout"
        }
      ]
    },
    {
      "cell_type": "code",
      "metadata": {
        "colab": {
          "base_uri": "https://localhost:8080/"
        },
        "id": "djkR_lDlMdl9",
        "outputId": "66fc2756-5d4b-42ba-9255-3f22764faa2c"
      },
      "source": [
        "# x = x.new_ones(4, 3, dtype=torch.int)\n",
        "# print(x)"
      ],
      "execution_count": null,
      "outputs": [
        {
          "output_type": "stream",
          "text": [
            "tensor([[1, 1, 1],\n",
            "        [1, 1, 1],\n",
            "        [1, 1, 1],\n",
            "        [1, 1, 1]], dtype=torch.int32)\n"
          ],
          "name": "stdout"
        }
      ]
    },
    {
      "cell_type": "code",
      "metadata": {
        "colab": {
          "base_uri": "https://localhost:8080/",
          "height": 197
        },
        "id": "eE_Cg2LwND48",
        "outputId": "7a2f8480-94e9-4cf3-fe14-0b8c9a0317eb"
      },
      "source": [
        "# properties like shape are used to create a new matrix, overrsing the dtype can be done\n",
        "x = torch.rand_like(x, dtype=torch.long)\n",
        "print(x)"
      ],
      "execution_count": null,
      "outputs": [
        {
          "output_type": "error",
          "ename": "RuntimeError",
          "evalue": "ignored",
          "traceback": [
            "\u001b[0;31m---------------------------------------------------------------------------\u001b[0m",
            "\u001b[0;31mRuntimeError\u001b[0m                              Traceback (most recent call last)",
            "\u001b[0;32m<ipython-input-22-f9fe43420a6a>\u001b[0m in \u001b[0;36m<module>\u001b[0;34m()\u001b[0m\n\u001b[1;32m      1\u001b[0m \u001b[0;31m# properties like shape are used to create a new matrix, overrsing the dtype can be done\u001b[0m\u001b[0;34m\u001b[0m\u001b[0;34m\u001b[0m\u001b[0;34m\u001b[0m\u001b[0m\n\u001b[0;32m----> 2\u001b[0;31m \u001b[0mx\u001b[0m \u001b[0;34m=\u001b[0m \u001b[0mtorch\u001b[0m\u001b[0;34m.\u001b[0m\u001b[0mrand_like\u001b[0m\u001b[0;34m(\u001b[0m\u001b[0mx\u001b[0m\u001b[0;34m,\u001b[0m \u001b[0mdtype\u001b[0m\u001b[0;34m=\u001b[0m\u001b[0mtorch\u001b[0m\u001b[0;34m.\u001b[0m\u001b[0mlong\u001b[0m\u001b[0;34m)\u001b[0m\u001b[0;34m\u001b[0m\u001b[0;34m\u001b[0m\u001b[0m\n\u001b[0m\u001b[1;32m      3\u001b[0m \u001b[0mprint\u001b[0m\u001b[0;34m(\u001b[0m\u001b[0mx\u001b[0m\u001b[0;34m)\u001b[0m\u001b[0;34m\u001b[0m\u001b[0;34m\u001b[0m\u001b[0m\n",
            "\u001b[0;31mRuntimeError\u001b[0m: \"check_uniform_bounds\" not implemented for 'Long'"
          ]
        }
      ]
    },
    {
      "cell_type": "code",
      "metadata": {
        "colab": {
          "base_uri": "https://localhost:8080/"
        },
        "id": "9WPuFtOjNUr8",
        "outputId": "d2962146-3ce2-46b9-bfcf-9f0b57931888"
      },
      "source": [
        "print(x.size())"
      ],
      "execution_count": null,
      "outputs": [
        {
          "output_type": "stream",
          "text": [
            "torch.Size([2])\n"
          ],
          "name": "stdout"
        }
      ]
    },
    {
      "cell_type": "code",
      "metadata": {
        "colab": {
          "base_uri": "https://localhost:8080/"
        },
        "id": "Z47x0LchPDic",
        "outputId": "e8be7208-2de7-469c-c9b2-f6df9ba2690e"
      },
      "source": [
        "#operations\n",
        "y = torch.rand(5,2)\n",
        "x = torch.ones(5,2)\n",
        "print(x+y)"
      ],
      "execution_count": null,
      "outputs": [
        {
          "output_type": "stream",
          "text": [
            "tensor([[1.0393, 1.8096],\n",
            "        [1.5014, 1.1252],\n",
            "        [1.1722, 1.8822],\n",
            "        [1.3691, 1.8185],\n",
            "        [1.3363, 1.0249]])\n"
          ],
          "name": "stdout"
        }
      ]
    },
    {
      "cell_type": "code",
      "metadata": {
        "colab": {
          "base_uri": "https://localhost:8080/"
        },
        "id": "G2cKQXVxPRUS",
        "outputId": "97d73df8-427c-4efb-8a93-737931536e62"
      },
      "source": [
        "torch.add(x, y)"
      ],
      "execution_count": null,
      "outputs": [
        {
          "output_type": "execute_result",
          "data": {
            "text/plain": [
              "tensor([[1.0393, 1.8096],\n",
              "        [1.5014, 1.1252],\n",
              "        [1.1722, 1.8822],\n",
              "        [1.3691, 1.8185],\n",
              "        [1.3363, 1.0249]])"
            ]
          },
          "metadata": {
            "tags": []
          },
          "execution_count": 25
        }
      ]
    },
    {
      "cell_type": "code",
      "metadata": {
        "colab": {
          "base_uri": "https://localhost:8080/"
        },
        "id": "twjPJSF4PWJk",
        "outputId": "b8a93b93-8cba-40b7-aedc-ed8c5f83b4d4"
      },
      "source": [
        "#output as an argument\n",
        "res = torch.empty(5,3)\n",
        "torch.add(x,y, out=res)\n",
        "print(res)"
      ],
      "execution_count": null,
      "outputs": [
        {
          "output_type": "stream",
          "text": [
            "tensor([[1.0393, 1.8096],\n",
            "        [1.5014, 1.1252],\n",
            "        [1.1722, 1.8822],\n",
            "        [1.3691, 1.8185],\n",
            "        [1.3363, 1.0249]])\n"
          ],
          "name": "stdout"
        },
        {
          "output_type": "stream",
          "text": [
            "/usr/local/lib/python3.6/dist-packages/ipykernel_launcher.py:3: UserWarning: An output with one or more elements was resized since it had shape [5, 3], which does not match the required output shape [5, 2].This behavior is deprecated, and in a future PyTorch release outputs will not be resized unless they have zero elements. You can explicitly reuse an out tensor t by resizing it, inplace, to zero elements with t.resize_(0). (Triggered internally at  /pytorch/aten/src/ATen/native/Resize.cpp:19.)\n",
            "  This is separate from the ipykernel package so we can avoid doing imports until\n"
          ],
          "name": "stderr"
        }
      ]
    },
    {
      "cell_type": "code",
      "metadata": {
        "colab": {
          "base_uri": "https://localhost:8080/"
        },
        "id": "Sn0i4G0iPwWs",
        "outputId": "a538bcaf-cf96-425f-c277-fed8f4d001be"
      },
      "source": [
        "#inplace addition\n",
        "#adding x to y\n",
        "y.add_(x)\n",
        "y"
      ],
      "execution_count": null,
      "outputs": [
        {
          "output_type": "execute_result",
          "data": {
            "text/plain": [
              "tensor([[1.0393, 1.8096],\n",
              "        [1.5014, 1.1252],\n",
              "        [1.1722, 1.8822],\n",
              "        [1.3691, 1.8185],\n",
              "        [1.3363, 1.0249]])"
            ]
          },
          "metadata": {
            "tags": []
          },
          "execution_count": 27
        }
      ]
    },
    {
      "cell_type": "code",
      "metadata": {
        "id": "vqBa7tPKP5o7"
      },
      "source": [
        "# an operation whihc alters a tensor in place just like add_ in th eabove cell, will have _ as postfix element\n",
        "# x.copy_(y), x.t_() will alter x\n"
      ],
      "execution_count": null,
      "outputs": []
    },
    {
      "cell_type": "code",
      "metadata": {
        "colab": {
          "base_uri": "https://localhost:8080/"
        },
        "id": "bw3Fop_rRD2E",
        "outputId": "36e384ff-df21-4ac2-a9e3-f2c1757623e0"
      },
      "source": [
        "x = torch.rand(4,3)\n",
        "x"
      ],
      "execution_count": null,
      "outputs": [
        {
          "output_type": "execute_result",
          "data": {
            "text/plain": [
              "tensor([[0.7829, 0.9555, 0.9019],\n",
              "        [0.1665, 0.3240, 0.9307],\n",
              "        [0.0443, 0.7856, 0.4806],\n",
              "        [0.7510, 0.0822, 0.2482]])"
            ]
          },
          "metadata": {
            "tags": []
          },
          "execution_count": 31
        }
      ]
    },
    {
      "cell_type": "code",
      "metadata": {
        "colab": {
          "base_uri": "https://localhost:8080/"
        },
        "id": "rm9QJVG9QdNy",
        "outputId": "14323cd6-ae49-4c0d-b309-522d36bcced3"
      },
      "source": [
        "x[:, 1]# all rows and second column"
      ],
      "execution_count": null,
      "outputs": [
        {
          "output_type": "execute_result",
          "data": {
            "text/plain": [
              "tensor([0.9555, 0.3240, 0.7856, 0.0822])"
            ]
          },
          "metadata": {
            "tags": []
          },
          "execution_count": 32
        }
      ]
    },
    {
      "cell_type": "code",
      "metadata": {
        "colab": {
          "base_uri": "https://localhost:8080/"
        },
        "id": "owwcI-6pQmGK",
        "outputId": "9627ee43-dc13-49e0-b67d-4bc044b538d6"
      },
      "source": [
        "# torch .view to reshape a tensor\n",
        "import torch\n",
        "x = torch.randn(5,4)# random numbers from noraml distribution\n",
        "y = x.view(2, 10)\n",
        "print(x)\n",
        "print(y)"
      ],
      "execution_count": 2,
      "outputs": [
        {
          "output_type": "stream",
          "text": [
            "tensor([[ 2.1286,  0.4173,  1.3890,  1.4951],\n",
            "        [ 1.4935,  0.5690,  1.5942, -1.3602],\n",
            "        [-0.3482, -0.7607,  0.8125, -0.4509],\n",
            "        [-0.1261, -0.9839, -0.3758, -0.1618],\n",
            "        [-0.3266,  0.5949, -0.7069, -0.1459]])\n",
            "tensor([[ 2.1286,  0.4173,  1.3890,  1.4951,  1.4935,  0.5690,  1.5942, -1.3602,\n",
            "         -0.3482, -0.7607],\n",
            "        [ 0.8125, -0.4509, -0.1261, -0.9839, -0.3758, -0.1618, -0.3266,  0.5949,\n",
            "         -0.7069, -0.1459]])\n"
          ],
          "name": "stdout"
        }
      ]
    },
    {
      "cell_type": "code",
      "metadata": {
        "colab": {
          "base_uri": "https://localhost:8080/"
        },
        "id": "Rk_kRcT7Y2Xl",
        "outputId": "087b3ab5-46f6-4f63-a7bd-cff5bec56ed3"
      },
      "source": [
        "torch.empty(5,3)"
      ],
      "execution_count": 3,
      "outputs": [
        {
          "output_type": "execute_result",
          "data": {
            "text/plain": [
              "tensor([[3.1998e-36, 0.0000e+00, 3.3631e-44],\n",
              "        [0.0000e+00,        nan, 6.4460e-44],\n",
              "        [1.1578e+27, 1.1362e+30, 7.1547e+22],\n",
              "        [4.5828e+30, 1.2121e+04, 7.1846e+22],\n",
              "        [9.2198e-39, 7.0374e+22, 0.0000e+00]])"
            ]
          },
          "metadata": {
            "tags": []
          },
          "execution_count": 3
        }
      ]
    },
    {
      "cell_type": "code",
      "metadata": {
        "colab": {
          "base_uri": "https://localhost:8080/"
        },
        "id": "fBczKX1LRdOZ",
        "outputId": "8d33f5fc-84ff-46ed-e5b9-7da9aa1ee1c4"
      },
      "source": [
        "z = x.view(-1, 10)#  we only give one dimension, -1 will infer the other dimenion\n",
        "print(x.size(), y.size(), z.size())"
      ],
      "execution_count": null,
      "outputs": [
        {
          "output_type": "stream",
          "text": [
            "torch.Size([5, 4]) torch.Size([20]) torch.Size([2, 10])\n"
          ],
          "name": "stdout"
        }
      ]
    },
    {
      "cell_type": "code",
      "metadata": {
        "colab": {
          "base_uri": "https://localhost:8080/"
        },
        "id": "nvazTMUgR_Cx",
        "outputId": "6a70b8ae-ec38-4fc1-d706-bd27b8cd12d2"
      },
      "source": [
        "x = torch.randn(1)\n",
        "print(x)\n",
        "print(x.item())"
      ],
      "execution_count": 6,
      "outputs": [
        {
          "output_type": "stream",
          "text": [
            "tensor([0.7860])\n",
            "0.785963773727417\n"
          ],
          "name": "stdout"
        }
      ]
    },
    {
      "cell_type": "code",
      "metadata": {
        "colab": {
          "base_uri": "https://localhost:8080/"
        },
        "id": "IFCvwxaKSFph",
        "outputId": "7b84dc96-73c5-42fe-c7e5-9c1c37eeaac0"
      },
      "source": [
        "#numpy\n",
        "x = torch.ones(5)\n",
        "x"
      ],
      "execution_count": 7,
      "outputs": [
        {
          "output_type": "execute_result",
          "data": {
            "text/plain": [
              "tensor([1., 1., 1., 1., 1.])"
            ]
          },
          "metadata": {
            "tags": []
          },
          "execution_count": 7
        }
      ]
    },
    {
      "cell_type": "code",
      "metadata": {
        "colab": {
          "base_uri": "https://localhost:8080/"
        },
        "id": "NkqHGNymSh9Z",
        "outputId": "692e7f07-1c35-4120-8fe5-4f4dff6b9aef"
      },
      "source": [
        "z = x.numpy()\n",
        "z"
      ],
      "execution_count": null,
      "outputs": [
        {
          "output_type": "execute_result",
          "data": {
            "text/plain": [
              "array([1., 1., 1., 1., 1.], dtype=float32)"
            ]
          },
          "metadata": {
            "tags": []
          },
          "execution_count": 42
        }
      ]
    },
    {
      "cell_type": "code",
      "metadata": {
        "colab": {
          "base_uri": "https://localhost:8080/"
        },
        "id": "l21pmDAVSmsB",
        "outputId": "5f38798d-e1e3-4898-bd7f-efb41c783cb7"
      },
      "source": [
        "x.add_(2)\n",
        "print(x)\n",
        "print(z)"
      ],
      "execution_count": null,
      "outputs": [
        {
          "output_type": "stream",
          "text": [
            "tensor([3., 3., 3., 3., 3.])\n",
            "[3. 3. 3. 3. 3.]\n"
          ],
          "name": "stdout"
        }
      ]
    },
    {
      "cell_type": "code",
      "metadata": {
        "colab": {
          "base_uri": "https://localhost:8080/"
        },
        "id": "K7EuUnoBSyFo",
        "outputId": "de1fde0f-b334-4b16-cae1-99fc4a859beb"
      },
      "source": [
        "# np to torch tensor\n",
        "import numpy as np\n",
        "import torch\n",
        "a = np.ones(3)\n",
        "b = torch.from_numpy(a)\n",
        "np.add(a, 1, out=a)\n",
        "print(a)\n",
        "print(b)\n"
      ],
      "execution_count": null,
      "outputs": [
        {
          "output_type": "stream",
          "text": [
            "[2. 2. 2.]\n",
            "tensor([2., 2., 2.], dtype=torch.float64)\n"
          ],
          "name": "stdout"
        }
      ]
    },
    {
      "cell_type": "code",
      "metadata": {
        "colab": {
          "base_uri": "https://localhost:8080/"
        },
        "id": "SGsGNUGATP3h",
        "outputId": "e14e1e13-7d3a-4d59-e26d-f58ec5d78c1f"
      },
      "source": [
        "# cuda tensors\n",
        "if torch.cuda.is_available():\n",
        "    device = torch.device(\"cuda\")\n",
        "    u = torch.ones_like(x, device=device)\n",
        "    x = x.to(device) # or can use x.to(\"cuda\")\n",
        "    z =x+u\n",
        "    print(z)\n",
        "    print(z.to(\"cpu\", torch.int))# .to can override the dtype"
      ],
      "execution_count": null,
      "outputs": [
        {
          "output_type": "stream",
          "text": [
            "tensor([[ 2.3924,  2.3424,  0.3032,  1.2273],\n",
            "        [ 0.1411,  0.0409, -0.1090,  2.2684],\n",
            "        [ 0.0241,  1.2749, -0.4514, -0.1394],\n",
            "        [ 1.6286,  0.7326,  0.0488,  0.7162],\n",
            "        [ 1.7757,  1.7384,  0.7669, -1.0800]], device='cuda:0')\n",
            "tensor([[ 2,  2,  0,  1],\n",
            "        [ 0,  0,  0,  2],\n",
            "        [ 0,  1,  0,  0],\n",
            "        [ 1,  0,  0,  0],\n",
            "        [ 1,  1,  0, -1]], dtype=torch.int32)\n"
          ],
          "name": "stdout"
        }
      ]
    },
    {
      "cell_type": "code",
      "metadata": {
        "id": "esPjSMgqUIoK",
        "colab": {
          "base_uri": "https://localhost:8080/"
        },
        "outputId": "6ccd6fec-b441-422b-8422-e2c3a15be552"
      },
      "source": [
        "#20 Nov\n",
        "\n",
        "import torch\n",
        "x = torch.ones(2,2,requires_grad = True)\n",
        "print(x)\n",
        "\n"
      ],
      "execution_count": 1,
      "outputs": [
        {
          "output_type": "stream",
          "text": [
            "tensor([[1., 1.],\n",
            "        [1., 1.]], requires_grad=True)\n"
          ],
          "name": "stdout"
        }
      ]
    },
    {
      "cell_type": "code",
      "metadata": {
        "colab": {
          "base_uri": "https://localhost:8080/"
        },
        "id": "q6u002J4ZdnH",
        "outputId": "dd24bdbe-c624-426e-e868-e7c19b7c0217"
      },
      "source": [
        "z = x + 3\n",
        "print(z)"
      ],
      "execution_count": 2,
      "outputs": [
        {
          "output_type": "stream",
          "text": [
            "tensor([[4., 4.],\n",
            "        [4., 4.]], grad_fn=<AddBackward0>)\n"
          ],
          "name": "stdout"
        }
      ]
    },
    {
      "cell_type": "code",
      "metadata": {
        "colab": {
          "base_uri": "https://localhost:8080/"
        },
        "id": "vHRXVLNEkdKr",
        "outputId": "71275edf-ca5a-474d-fcea-812ab015c1d2"
      },
      "source": [
        "y = z**2\n",
        "out = y.mean()\n",
        "print(z)\n",
        "print(out)"
      ],
      "execution_count": 3,
      "outputs": [
        {
          "output_type": "stream",
          "text": [
            "tensor([[4., 4.],\n",
            "        [4., 4.]], grad_fn=<AddBackward0>)\n",
            "tensor(16., grad_fn=<MeanBackward0>)\n"
          ],
          "name": "stdout"
        }
      ]
    },
    {
      "cell_type": "code",
      "metadata": {
        "colab": {
          "base_uri": "https://localhost:8080/"
        },
        "id": "85uC2DPpkno9",
        "outputId": "af2d798d-1bf1-4e38-82cb-71dd8a6bc8bc"
      },
      "source": [
        "a = torch.randn(2, 2)\n",
        "a = ((a*3/(a-2)))\n",
        "print(a.requires_grad)\n",
        "a.requires_grad_(True)\n",
        "print(a.requires_grad)\n",
        "b = (a*a).sum()\n",
        "print(b.grad_fn)"
      ],
      "execution_count": 5,
      "outputs": [
        {
          "output_type": "stream",
          "text": [
            "False\n",
            "True\n",
            "<SumBackward0 object at 0x7f4db778b9b0>\n"
          ],
          "name": "stdout"
        }
      ]
    },
    {
      "cell_type": "code",
      "metadata": {
        "colab": {
          "base_uri": "https://localhost:8080/"
        },
        "id": "35iE6vu0lAmh",
        "outputId": "3c53d3e8-88fe-42d6-a74b-63d903ca625b"
      },
      "source": [
        "b.requires_grad"
      ],
      "execution_count": 6,
      "outputs": [
        {
          "output_type": "execute_result",
          "data": {
            "text/plain": [
              "True"
            ]
          },
          "metadata": {
            "tags": []
          },
          "execution_count": 6
        }
      ]
    },
    {
      "cell_type": "code",
      "metadata": {
        "id": "MTOGvNIAlESB"
      },
      "source": [
        "out.backward()"
      ],
      "execution_count": 7,
      "outputs": []
    },
    {
      "cell_type": "code",
      "metadata": {
        "colab": {
          "base_uri": "https://localhost:8080/"
        },
        "id": "xdduVBe_lK0R",
        "outputId": "6b284a0c-162f-451d-a1a3-a72a5aa251f7"
      },
      "source": [
        "x.grad"
      ],
      "execution_count": 8,
      "outputs": [
        {
          "output_type": "execute_result",
          "data": {
            "text/plain": [
              "tensor([[2., 2.],\n",
              "        [2., 2.]])"
            ]
          },
          "metadata": {
            "tags": []
          },
          "execution_count": 8
        }
      ]
    },
    {
      "cell_type": "code",
      "metadata": {
        "id": "GTMu8l8NmBZJ"
      },
      "source": [
        "# CNN\n",
        "\n",
        "import torch \n",
        "import torchvision\n",
        "import torchvision.transforms as transforms"
      ],
      "execution_count": 1,
      "outputs": []
    },
    {
      "cell_type": "code",
      "metadata": {
        "colab": {
          "base_uri": "https://localhost:8080/"
        },
        "id": "b-GFdBmu02uZ",
        "outputId": "89d3a24b-4b89-4242-9b64-fbd57f7a0640"
      },
      "source": [
        "transform = transforms.Compose([transforms.ToTensor(), transforms.Normalize((0.5, 0.5, 0.5),(0.5, 0.5, 0.5))])\n",
        "transform"
      ],
      "execution_count": 3,
      "outputs": [
        {
          "output_type": "execute_result",
          "data": {
            "text/plain": [
              "Compose(\n",
              "    ToTensor()\n",
              "    Normalize(mean=(0.5, 0.5, 0.5), std=(0.5, 0.5, 0.5))\n",
              ")"
            ]
          },
          "metadata": {
            "tags": []
          },
          "execution_count": 3
        }
      ]
    },
    {
      "cell_type": "code",
      "metadata": {
        "colab": {
          "base_uri": "https://localhost:8080/"
        },
        "id": "cn3cGiz72Ns8",
        "outputId": "d72736b6-2056-4024-9d97-edc018cb955c"
      },
      "source": [
        "trainset =  torchvision.datasets.CIFAR10(root = './data', train = True, download = True, transform =transform )\n",
        "print(trainset)\n",
        "trainloader = torch.utils.data.DataLoader(trainset, batch_size=4, shuffle=True, num_workers = 2)\n",
        "\n",
        "testset = torchvision.datasets.CIFAR10( root = './data', train =False, download=True, transform =transform )\n",
        "\n",
        "testloader = torch.utils.data.DataLoader(testset, batch_size=4, shuffle= False, num_workers = 2)\n",
        "\n",
        "classes = ('plane', 'car', 'bird', 'cat', 'deer', 'dog', 'frog', 'horse', 'ship', 'truck')"
      ],
      "execution_count": 9,
      "outputs": [
        {
          "output_type": "stream",
          "text": [
            "Files already downloaded and verified\n",
            "Dataset CIFAR10\n",
            "    Number of datapoints: 50000\n",
            "    Root location: ./data\n",
            "    Split: Train\n",
            "    StandardTransform\n",
            "Transform: Compose(\n",
            "               ToTensor()\n",
            "               Normalize(mean=(0.5, 0.5, 0.5), std=(0.5, 0.5, 0.5))\n",
            "           )\n",
            "Files already downloaded and verified\n"
          ],
          "name": "stdout"
        }
      ]
    },
    {
      "cell_type": "code",
      "metadata": {
        "id": "WX_jAMIV2uKO"
      },
      "source": [
        "# Def cnn\n",
        "import torch.nn as nn\n",
        "import torch.nn.functional as F\n",
        "\n",
        "class Net(nn.Module):\n",
        "    def __init__(self):\n",
        "        super(Net, self).__init__()\n",
        "        self.conv1 = nn.Conv2d(3, 6, 5)\n",
        "        self.pool = nn.MaxPool2d(2, 2)\n",
        "        self.conv2 = nn.Conv2d(6, 16, 5)\n",
        "        self.fc1 = nn.Linear(16*5*5, 120)\n",
        "        self.fc2 = nn.Linear(120, 84)\n",
        "        self.fc3 = nn.Linear(84, 10)\n",
        "    def forward(self, x):\n",
        "        x = self.pool(F.relu(self.conv1(x)))\n",
        "        x = self.pool(F.relu(self.conv2(x)))\n",
        "        x = x.view(-1, 16*5*5)\n",
        "        x = F.relu(self.fc1(x))\n",
        "        x = F.relu(self.fc2(x))\n",
        "        x = self.fc3(x)\n",
        "        return x\n",
        "\n",
        "net = Net()"
      ],
      "execution_count": 10,
      "outputs": []
    },
    {
      "cell_type": "code",
      "metadata": {
        "colab": {
          "base_uri": "https://localhost:8080/"
        },
        "id": "V88Ai3iR9Dv5",
        "outputId": "dcd14551-8de1-4340-8a8e-bf9a38ef7b45"
      },
      "source": [
        "device = torch.device(\"cuda:0\" if torch.cuda.is_available() else \"cpu\")\n",
        "print(device)\n",
        "net.to(device)"
      ],
      "execution_count": 18,
      "outputs": [
        {
          "output_type": "stream",
          "text": [
            "cuda:0\n"
          ],
          "name": "stdout"
        },
        {
          "output_type": "execute_result",
          "data": {
            "text/plain": [
              "Net(\n",
              "  (conv1): Conv2d(3, 6, kernel_size=(5, 5), stride=(1, 1))\n",
              "  (pool): MaxPool2d(kernel_size=2, stride=2, padding=0, dilation=1, ceil_mode=False)\n",
              "  (conv2): Conv2d(6, 16, kernel_size=(5, 5), stride=(1, 1))\n",
              "  (fc1): Linear(in_features=400, out_features=120, bias=True)\n",
              "  (fc2): Linear(in_features=120, out_features=84, bias=True)\n",
              "  (fc3): Linear(in_features=84, out_features=10, bias=True)\n",
              ")"
            ]
          },
          "metadata": {
            "tags": []
          },
          "execution_count": 18
        }
      ]
    },
    {
      "cell_type": "code",
      "metadata": {
        "colab": {
          "base_uri": "https://localhost:8080/"
        },
        "id": "JVKtpbCY5yOu",
        "outputId": "24bf5e47-f382-4a9a-9ba4-7d7f445b97c8"
      },
      "source": [
        "import torch.optim as optim\n",
        "criterion = nn.CrossEntropyLoss()\n",
        "optimizer = optim.SGD(net.parameters(), lr = 0.001, momentum = 0.9)\n",
        "optimizer"
      ],
      "execution_count": 21,
      "outputs": [
        {
          "output_type": "execute_result",
          "data": {
            "text/plain": [
              "SGD (\n",
              "Parameter Group 0\n",
              "    dampening: 0\n",
              "    lr: 0.001\n",
              "    momentum: 0.9\n",
              "    nesterov: False\n",
              "    weight_decay: 0\n",
              ")"
            ]
          },
          "metadata": {
            "tags": []
          },
          "execution_count": 21
        }
      ]
    },
    {
      "cell_type": "code",
      "metadata": {
        "colab": {
          "base_uri": "https://localhost:8080/"
        },
        "id": "43KbpTKh6Eqi",
        "outputId": "53d6b8eb-696e-42de-a8f8-41eedb3c43b7"
      },
      "source": [
        "#Train \n",
        "\n",
        "for epoch in range(3):\n",
        "    running_loss = 0.0\n",
        "    for i, data in enumerate(trainloader, 0):\n",
        "        inputs, labels = data[0].to(device), data[1].to(device)\n",
        "        optimizer.zero_grad()\n",
        "\n",
        "        outputs = net(inputs)\n",
        "        loss = criterion(outputs, labels)\n",
        "        loss.to(device)\n",
        "        loss.backward()\n",
        "        optimizer.step()\n",
        "\n",
        "        running_loss += loss.item()\n",
        "\n",
        "        if i%2000 == 1999:\n",
        "            print('[%d, %5d] loss: %.3f' % (epoch+1, i+1, running_loss/2000))\n",
        "            running_loss = 0.0\n",
        "\n",
        "print(\"Done training\")"
      ],
      "execution_count": 24,
      "outputs": [
        {
          "output_type": "stream",
          "text": [
            "[1,  2000] loss: 1.071\n",
            "[1,  4000] loss: 1.085\n",
            "[1,  6000] loss: 1.087\n",
            "[1,  8000] loss: 1.065\n",
            "[1, 10000] loss: 1.073\n",
            "[1, 12000] loss: 1.057\n",
            "[2,  2000] loss: 0.997\n",
            "[2,  4000] loss: 1.001\n",
            "[2,  6000] loss: 1.001\n",
            "[2,  8000] loss: 0.986\n",
            "[2, 10000] loss: 1.015\n",
            "[2, 12000] loss: 1.024\n",
            "[3,  2000] loss: 0.915\n",
            "[3,  4000] loss: 0.950\n",
            "[3,  6000] loss: 0.934\n",
            "[3,  8000] loss: 0.967\n",
            "[3, 10000] loss: 0.955\n",
            "[3, 12000] loss: 0.967\n",
            "Done training\n"
          ],
          "name": "stdout"
        }
      ]
    },
    {
      "cell_type": "code",
      "metadata": {
        "id": "WwkL6ojb7nza"
      },
      "source": [
        ""
      ],
      "execution_count": null,
      "outputs": []
    }
  ]
}